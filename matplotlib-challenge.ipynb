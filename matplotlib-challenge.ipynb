{
 "cells": [
  {
   "cell_type": "markdown",
   "id": "ce225234",
   "metadata": {},
   "source": [
    "# Conclusions and Inferences"
   ]
  },
  {
   "cell_type": "markdown",
   "id": "5cfc929b",
   "metadata": {},
   "source": [
    "    The first conclusion I can reach from this analysis of the data is that Capomulin and Ramicane are both promising drugs.  Both drugs had substantially higher numbers of measurements taken per mouse (likely indicating higher survival rates among mice treated with these drugs) and smaller average tumor sizes compared to a placebo.\n",
    "    The second conclusion I can reach is that all other drugs tested are not very promising.  In terms of number of measurements taken (a measure of mouse survival) and in terms of average tumor size over time, all the other drugs did little better than a placebo (if any better).\n",
    "    Finally, for mice tested with Capomulin, the average tumor size across all measurements of each mouse correlated strongly with the size of the mouse.  Under the conditions of this particular study, tumors of smaller mice shrank more than tumors of larger mice.  The mice varied substantially in size, with the largest mice more than half again the mass of the smallest mice.  If all mice were given the same dose of the drug, then that could produce a wide variation in amount of drug per gram of mouse, which could cause the trend found in the data."
   ]
  },
  {
   "cell_type": "code",
   "execution_count": 1,
   "id": "55d24818",
   "metadata": {},
   "outputs": [],
   "source": [
    "#import libraries used\n",
    "import matplotlib.pyplot as plt\n",
    "import pandas as pd\n",
    "import numpy as np\n",
    "import scipy.stats as st\n",
    "\n",
    "#find the data\n",
    "mouse_path = \"data/Mouse_metadata.csv\"\n",
    "study_path = \"data/Study_results.csv\"\n",
    "#read the data into dataframes\n",
    "mouse_df = pd.read_csv(mouse_path)\n",
    "study_df = pd.read_csv(study_path)"
   ]
  },
  {
   "cell_type": "code",
   "execution_count": 2,
   "id": "557f77dd",
   "metadata": {},
   "outputs": [
    {
     "name": "stdout",
     "output_type": "stream",
     "text": [
      "There are 249 distinct mice in the data.\n"
     ]
    }
   ],
   "source": [
    "#merge the data into a single dataframe\n",
    "combined_df = pd.merge(mouse_df,study_df,on=\"Mouse ID\")\n",
    "#print the number of unique mice\n",
    "print(f'There are {len(combined_df[\"Mouse ID\"].unique())} distinct mice in the data.')"
   ]
  },
  {
   "cell_type": "code",
   "execution_count": 3,
   "id": "de3f166d",
   "metadata": {},
   "outputs": [
    {
     "name": "stdout",
     "output_type": "stream",
     "text": [
      "    Mouse ID Drug Regimen     Sex  Age_months  Weight (g)  Timepoint  \\\n",
      "908     g989     Propriva  Female          21          26          0   \n",
      "909     g989     Propriva  Female          21          26          0   \n",
      "910     g989     Propriva  Female          21          26          5   \n",
      "911     g989     Propriva  Female          21          26          5   \n",
      "912     g989     Propriva  Female          21          26         10   \n",
      "913     g989     Propriva  Female          21          26         10   \n",
      "914     g989     Propriva  Female          21          26         15   \n",
      "915     g989     Propriva  Female          21          26         15   \n",
      "916     g989     Propriva  Female          21          26         20   \n",
      "917     g989     Propriva  Female          21          26         20   \n",
      "918     g989     Propriva  Female          21          26         25   \n",
      "919     g989     Propriva  Female          21          26         30   \n",
      "920     g989     Propriva  Female          21          26         35   \n",
      "\n",
      "     Tumor Volume (mm3)  Metastatic Sites  \n",
      "908           45.000000                 0  \n",
      "909           45.000000                 0  \n",
      "910           48.786801                 0  \n",
      "911           47.570392                 0  \n",
      "912           51.745156                 0  \n",
      "913           49.880528                 0  \n",
      "914           51.325852                 1  \n",
      "915           53.442020                 0  \n",
      "916           55.326122                 1  \n",
      "917           54.657650                 1  \n",
      "918           56.045564                 1  \n",
      "919           59.082294                 1  \n",
      "920           62.570880                 2  \n"
     ]
    }
   ],
   "source": [
    "#find mice with repeated timepoints\n",
    "repeats=combined_df.loc[combined_df.duplicated([\"Mouse ID\", \"Timepoint\"],keep=False),:][\"Mouse ID\"].unique()\n",
    "#for each mouse with repeated timepoints, print all the data associated with the mouse, even non-duplicate data.\n",
    "for mouse in repeats:\n",
    "    print(combined_df.loc[combined_df[\"Mouse ID\"] == mouse,:])\n",
    "#note that while there is only one mouse in this dataset with repeated timepoints, this should work for multiple such mice."
   ]
  },
  {
   "cell_type": "code",
   "execution_count": 4,
   "id": "34253887",
   "metadata": {},
   "outputs": [
    {
     "name": "stdout",
     "output_type": "stream",
     "text": [
      "There are 248 mice without repeated timepoints\n"
     ]
    }
   ],
   "source": [
    "#create a dataframe for the cleaned data\n",
    "cleaned_df=combined_df\n",
    "#for each mouse with repeated timepoints, remove that mouse from the cleaned data\n",
    "for mouse in repeats:\n",
    "    cleaned_df = cleaned_df.loc[cleaned_df[\"Mouse ID\"] != mouse,:]\n",
    "#this should also still work if there were multiple mice with repeated timepoints\n",
    "#print number of mice without repeated timepoints.\n",
    "print(f\"There are {len(cleaned_df['Mouse ID'].unique())} mice without repeated timepoints\")"
   ]
  },
  {
   "cell_type": "code",
   "execution_count": 5,
   "id": "87f433c9",
   "metadata": {},
   "outputs": [
    {
     "data": {
      "text/html": [
       "<div>\n",
       "<style scoped>\n",
       "    .dataframe tbody tr th:only-of-type {\n",
       "        vertical-align: middle;\n",
       "    }\n",
       "\n",
       "    .dataframe tbody tr th {\n",
       "        vertical-align: top;\n",
       "    }\n",
       "\n",
       "    .dataframe thead th {\n",
       "        text-align: right;\n",
       "    }\n",
       "</style>\n",
       "<table border=\"1\" class=\"dataframe\">\n",
       "  <thead>\n",
       "    <tr style=\"text-align: right;\">\n",
       "      <th></th>\n",
       "      <th>Mean</th>\n",
       "      <th>Median</th>\n",
       "      <th>Variance</th>\n",
       "      <th>Standard Deviation</th>\n",
       "      <th>Standard Error of the Mean</th>\n",
       "    </tr>\n",
       "    <tr>\n",
       "      <th>Drug Regimen</th>\n",
       "      <th></th>\n",
       "      <th></th>\n",
       "      <th></th>\n",
       "      <th></th>\n",
       "      <th></th>\n",
       "    </tr>\n",
       "  </thead>\n",
       "  <tbody>\n",
       "    <tr>\n",
       "      <th>Capomulin</th>\n",
       "      <td>40.675741</td>\n",
       "      <td>41.557809</td>\n",
       "      <td>24.947764</td>\n",
       "      <td>4.994774</td>\n",
       "      <td>0.329346</td>\n",
       "    </tr>\n",
       "    <tr>\n",
       "      <th>Ceftamin</th>\n",
       "      <td>52.591172</td>\n",
       "      <td>51.776157</td>\n",
       "      <td>39.290177</td>\n",
       "      <td>6.268188</td>\n",
       "      <td>0.469821</td>\n",
       "    </tr>\n",
       "    <tr>\n",
       "      <th>Infubinol</th>\n",
       "      <td>52.884795</td>\n",
       "      <td>51.820584</td>\n",
       "      <td>43.128684</td>\n",
       "      <td>6.567243</td>\n",
       "      <td>0.492236</td>\n",
       "    </tr>\n",
       "    <tr>\n",
       "      <th>Ketapril</th>\n",
       "      <td>55.235638</td>\n",
       "      <td>53.698743</td>\n",
       "      <td>68.553577</td>\n",
       "      <td>8.279709</td>\n",
       "      <td>0.603860</td>\n",
       "    </tr>\n",
       "    <tr>\n",
       "      <th>Naftisol</th>\n",
       "      <td>54.331565</td>\n",
       "      <td>52.509285</td>\n",
       "      <td>66.173479</td>\n",
       "      <td>8.134708</td>\n",
       "      <td>0.596466</td>\n",
       "    </tr>\n",
       "    <tr>\n",
       "      <th>Placebo</th>\n",
       "      <td>54.033581</td>\n",
       "      <td>52.288934</td>\n",
       "      <td>61.168083</td>\n",
       "      <td>7.821003</td>\n",
       "      <td>0.581331</td>\n",
       "    </tr>\n",
       "    <tr>\n",
       "      <th>Propriva</th>\n",
       "      <td>52.320930</td>\n",
       "      <td>50.446266</td>\n",
       "      <td>43.852013</td>\n",
       "      <td>6.622085</td>\n",
       "      <td>0.544332</td>\n",
       "    </tr>\n",
       "    <tr>\n",
       "      <th>Ramicane</th>\n",
       "      <td>40.216745</td>\n",
       "      <td>40.673236</td>\n",
       "      <td>23.486704</td>\n",
       "      <td>4.846308</td>\n",
       "      <td>0.320955</td>\n",
       "    </tr>\n",
       "    <tr>\n",
       "      <th>Stelasyn</th>\n",
       "      <td>54.233149</td>\n",
       "      <td>52.431737</td>\n",
       "      <td>59.450562</td>\n",
       "      <td>7.710419</td>\n",
       "      <td>0.573111</td>\n",
       "    </tr>\n",
       "    <tr>\n",
       "      <th>Zoniferol</th>\n",
       "      <td>53.236507</td>\n",
       "      <td>51.818479</td>\n",
       "      <td>48.533355</td>\n",
       "      <td>6.966589</td>\n",
       "      <td>0.516398</td>\n",
       "    </tr>\n",
       "  </tbody>\n",
       "</table>\n",
       "</div>"
      ],
      "text/plain": [
       "                   Mean     Median   Variance  Standard Deviation  \\\n",
       "Drug Regimen                                                        \n",
       "Capomulin     40.675741  41.557809  24.947764            4.994774   \n",
       "Ceftamin      52.591172  51.776157  39.290177            6.268188   \n",
       "Infubinol     52.884795  51.820584  43.128684            6.567243   \n",
       "Ketapril      55.235638  53.698743  68.553577            8.279709   \n",
       "Naftisol      54.331565  52.509285  66.173479            8.134708   \n",
       "Placebo       54.033581  52.288934  61.168083            7.821003   \n",
       "Propriva      52.320930  50.446266  43.852013            6.622085   \n",
       "Ramicane      40.216745  40.673236  23.486704            4.846308   \n",
       "Stelasyn      54.233149  52.431737  59.450562            7.710419   \n",
       "Zoniferol     53.236507  51.818479  48.533355            6.966589   \n",
       "\n",
       "              Standard Error of the Mean  \n",
       "Drug Regimen                              \n",
       "Capomulin                       0.329346  \n",
       "Ceftamin                        0.469821  \n",
       "Infubinol                       0.492236  \n",
       "Ketapril                        0.603860  \n",
       "Naftisol                        0.596466  \n",
       "Placebo                         0.581331  \n",
       "Propriva                        0.544332  \n",
       "Ramicane                        0.320955  \n",
       "Stelasyn                        0.573111  \n",
       "Zoniferol                       0.516398  "
      ]
     },
     "execution_count": 5,
     "metadata": {},
     "output_type": "execute_result"
    }
   ],
   "source": [
    "#create series for various statistics, grouped by Drug Regimen.\n",
    "#calculate mean\n",
    "summary_mean=cleaned_df.groupby([\"Drug Regimen\"]).mean()[\"Tumor Volume (mm3)\"]\n",
    "#calculate median\n",
    "summary_median=cleaned_df.groupby([\"Drug Regimen\"]).median()[\"Tumor Volume (mm3)\"]\n",
    "#calculate variance\n",
    "summary_var=cleaned_df.groupby([\"Drug Regimen\"]).var()[\"Tumor Volume (mm3)\"]\n",
    "#calculate standard deviation\n",
    "summary_std=cleaned_df.groupby([\"Drug Regimen\"]).std()[\"Tumor Volume (mm3)\"]\n",
    "#calculate standard error of the mean\n",
    "summary_sem=cleaned_df.groupby([\"Drug Regimen\"]).sem()[\"Tumor Volume (mm3)\"]\n",
    "#create a dataframe putting all the statistics together\n",
    "summary_df1 = pd.DataFrame({\"Mean\":summary_mean,\"Median\":summary_median,\"Variance\":summary_var,\"Standard Deviation\":summary_std,\"Standard Error of the Mean\":summary_sem})\n",
    "#print the results\n",
    "summary_df1"
   ]
  },
  {
   "cell_type": "code",
   "execution_count": 6,
   "id": "6c9f6bee",
   "metadata": {},
   "outputs": [
    {
     "data": {
      "text/html": [
       "<div>\n",
       "<style scoped>\n",
       "    .dataframe tbody tr th:only-of-type {\n",
       "        vertical-align: middle;\n",
       "    }\n",
       "\n",
       "    .dataframe tbody tr th {\n",
       "        vertical-align: top;\n",
       "    }\n",
       "\n",
       "    .dataframe thead tr th {\n",
       "        text-align: left;\n",
       "    }\n",
       "\n",
       "    .dataframe thead tr:last-of-type th {\n",
       "        text-align: right;\n",
       "    }\n",
       "</style>\n",
       "<table border=\"1\" class=\"dataframe\">\n",
       "  <thead>\n",
       "    <tr>\n",
       "      <th></th>\n",
       "      <th colspan=\"5\" halign=\"left\">Tumor Volume (mm3)</th>\n",
       "    </tr>\n",
       "    <tr>\n",
       "      <th></th>\n",
       "      <th>mean</th>\n",
       "      <th>median</th>\n",
       "      <th>var</th>\n",
       "      <th>std</th>\n",
       "      <th>sem</th>\n",
       "    </tr>\n",
       "    <tr>\n",
       "      <th>Drug Regimen</th>\n",
       "      <th></th>\n",
       "      <th></th>\n",
       "      <th></th>\n",
       "      <th></th>\n",
       "      <th></th>\n",
       "    </tr>\n",
       "  </thead>\n",
       "  <tbody>\n",
       "    <tr>\n",
       "      <th>Capomulin</th>\n",
       "      <td>40.675741</td>\n",
       "      <td>41.557809</td>\n",
       "      <td>24.947764</td>\n",
       "      <td>4.994774</td>\n",
       "      <td>0.329346</td>\n",
       "    </tr>\n",
       "    <tr>\n",
       "      <th>Ceftamin</th>\n",
       "      <td>52.591172</td>\n",
       "      <td>51.776157</td>\n",
       "      <td>39.290177</td>\n",
       "      <td>6.268188</td>\n",
       "      <td>0.469821</td>\n",
       "    </tr>\n",
       "    <tr>\n",
       "      <th>Infubinol</th>\n",
       "      <td>52.884795</td>\n",
       "      <td>51.820584</td>\n",
       "      <td>43.128684</td>\n",
       "      <td>6.567243</td>\n",
       "      <td>0.492236</td>\n",
       "    </tr>\n",
       "    <tr>\n",
       "      <th>Ketapril</th>\n",
       "      <td>55.235638</td>\n",
       "      <td>53.698743</td>\n",
       "      <td>68.553577</td>\n",
       "      <td>8.279709</td>\n",
       "      <td>0.603860</td>\n",
       "    </tr>\n",
       "    <tr>\n",
       "      <th>Naftisol</th>\n",
       "      <td>54.331565</td>\n",
       "      <td>52.509285</td>\n",
       "      <td>66.173479</td>\n",
       "      <td>8.134708</td>\n",
       "      <td>0.596466</td>\n",
       "    </tr>\n",
       "    <tr>\n",
       "      <th>Placebo</th>\n",
       "      <td>54.033581</td>\n",
       "      <td>52.288934</td>\n",
       "      <td>61.168083</td>\n",
       "      <td>7.821003</td>\n",
       "      <td>0.581331</td>\n",
       "    </tr>\n",
       "    <tr>\n",
       "      <th>Propriva</th>\n",
       "      <td>52.320930</td>\n",
       "      <td>50.446266</td>\n",
       "      <td>43.852013</td>\n",
       "      <td>6.622085</td>\n",
       "      <td>0.544332</td>\n",
       "    </tr>\n",
       "    <tr>\n",
       "      <th>Ramicane</th>\n",
       "      <td>40.216745</td>\n",
       "      <td>40.673236</td>\n",
       "      <td>23.486704</td>\n",
       "      <td>4.846308</td>\n",
       "      <td>0.320955</td>\n",
       "    </tr>\n",
       "    <tr>\n",
       "      <th>Stelasyn</th>\n",
       "      <td>54.233149</td>\n",
       "      <td>52.431737</td>\n",
       "      <td>59.450562</td>\n",
       "      <td>7.710419</td>\n",
       "      <td>0.573111</td>\n",
       "    </tr>\n",
       "    <tr>\n",
       "      <th>Zoniferol</th>\n",
       "      <td>53.236507</td>\n",
       "      <td>51.818479</td>\n",
       "      <td>48.533355</td>\n",
       "      <td>6.966589</td>\n",
       "      <td>0.516398</td>\n",
       "    </tr>\n",
       "  </tbody>\n",
       "</table>\n",
       "</div>"
      ],
      "text/plain": [
       "             Tumor Volume (mm3)                                          \n",
       "                           mean     median        var       std       sem\n",
       "Drug Regimen                                                             \n",
       "Capomulin             40.675741  41.557809  24.947764  4.994774  0.329346\n",
       "Ceftamin              52.591172  51.776157  39.290177  6.268188  0.469821\n",
       "Infubinol             52.884795  51.820584  43.128684  6.567243  0.492236\n",
       "Ketapril              55.235638  53.698743  68.553577  8.279709  0.603860\n",
       "Naftisol              54.331565  52.509285  66.173479  8.134708  0.596466\n",
       "Placebo               54.033581  52.288934  61.168083  7.821003  0.581331\n",
       "Propriva              52.320930  50.446266  43.852013  6.622085  0.544332\n",
       "Ramicane              40.216745  40.673236  23.486704  4.846308  0.320955\n",
       "Stelasyn              54.233149  52.431737  59.450562  7.710419  0.573111\n",
       "Zoniferol             53.236507  51.818479  48.533355  6.966589  0.516398"
      ]
     },
     "execution_count": 6,
     "metadata": {},
     "output_type": "execute_result"
    }
   ],
   "source": [
    "#Use pd.DataFrame.groupby.agg method to do the same calculations in one line and print results.\n",
    "cleaned_df[[\"Drug Regimen\",\"Tumor Volume (mm3)\"]].groupby(\"Drug Regimen\").agg([\"mean\",\"median\",\"var\",\"std\",\"sem\"])"
   ]
  },
  {
   "cell_type": "code",
   "execution_count": 7,
   "id": "e8079d88",
   "metadata": {
    "scrolled": false
   },
   "outputs": [
    {
     "data": {
      "text/plain": [
       "<matplotlib.axes._subplots.AxesSubplot at 0x1d1c9daf988>"
      ]
     },
     "execution_count": 7,
     "metadata": {},
     "output_type": "execute_result"
    },
    {
     "data": {
      "image/png": "[encoded data removed]",
      "text/plain": [
       "<Figure size 720x360 with 1 Axes>"
      ]
     },
     "metadata": {
      "needs_background": "light"
     },
     "output_type": "display_data"
    }
   ],
   "source": [
    "#plot the count of timepoints for each drug (important as a measure of survival among mice on that drug)\n",
    "cleaned_df.groupby(\"Drug Regimen\").count()[\"Timepoint\"].plot(kind=\"bar\",figsize=[10,5],title=\"Total Timepoints for Each Drug\")\n",
    "#I would have included a label on the vertical axis, but ylabel wasn't implemented in pandas until a later version of pandas than is included in the PythonData environment.  Sorry..."
   ]
  },
  {
   "cell_type": "code",
   "execution_count": 8,
   "id": "90393624",
   "metadata": {},
   "outputs": [
    {
     "data": {
      "image/png": "[encoded data removed]",
      "text/plain": [
       "<Figure size 720x360 with 1 Axes>"
      ]
     },
     "metadata": {
      "needs_background": "light"
     },
     "output_type": "display_data"
    }
   ],
   "source": [
    "#plot count of timepoints with matplotlib.pyplot\n",
    "#adjust figure size\n",
    "plt.figure(figsize=[10,5])\n",
    "#title the graph\n",
    "plt.title(\"Total Timepoints for Each Drug\")\n",
    "#label the axes of the graph\n",
    "plt.ylabel(\"Total Number of Timepoints\")\n",
    "plt.xlabel(\"Drug Regimen\")\n",
    "#produce and show the graph\n",
    "plt.bar(cleaned_df.groupby(\"Drug Regimen\").count().index,cleaned_df.groupby(\"Drug Regimen\").count()[\"Timepoint\"])\n",
    "plt.show()"
   ]
  },
  {
   "cell_type": "code",
   "execution_count": 9,
   "id": "d7544e5c",
   "metadata": {},
   "outputs": [
    {
     "data": {
      "text/plain": [
       "<matplotlib.axes._subplots.AxesSubplot at 0x1d1ca196248>"
      ]
     },
     "execution_count": 9,
     "metadata": {},
     "output_type": "execute_result"
    },
    {
     "data": {
      "image/png": "[encoded data removed]",
      "text/plain": [
       "<Figure size 432x288 with 1 Axes>"
      ]
     },
     "metadata": {},
     "output_type": "display_data"
    }
   ],
   "source": [
    "#produce a pie chart of how many male and female mice there were\n",
    "cleaned_df.drop_duplicates(\"Mouse ID\").groupby(\"Sex\").count()[\"Mouse ID\"].plot(kind=\"pie\",title=\"Number of Mice by Sex\")"
   ]
  },
  {
   "cell_type": "code",
   "execution_count": 10,
   "id": "cd1771ed",
   "metadata": {},
   "outputs": [
    {
     "data": {
      "image/png": "[encoded data removed]",
      "text/plain": [
       "<Figure size 432x288 with 1 Axes>"
      ]
     },
     "metadata": {},
     "output_type": "display_data"
    }
   ],
   "source": [
    "#produce another pie chart of how many male and female mice there were\n",
    "plt.title(\"Number of Mice by Sex\")\n",
    "\n",
    "plt.pie(cleaned_df.drop_duplicates(\"Mouse ID\").groupby(\"Sex\").count()[\"Mouse ID\"],labels=[\"female\",\"male\"])\n",
    "plt.show()"
   ]
  },
  {
   "cell_type": "code",
   "execution_count": 11,
   "id": "2a257cff",
   "metadata": {
    "scrolled": false
   },
   "outputs": [
    {
     "name": "stdout",
     "output_type": "stream",
     "text": [
      "Capomulin:\n",
      "First quartile:  32.37735684\n",
      "Second quartile:  38.125164399999996\n",
      "Third quartile:  40.1592203\n",
      "Interquartile Range is 7.781863460000004\n",
      "Capomulin has 0 outlier(s) above the middle of the data\n",
      "Capomulin has 0 outlier(s) below the middle of the data\n",
      "--------------------\n",
      "Ramicane:\n",
      "First quartile:  31.56046955\n",
      "Second quartile:  36.56165229\n",
      "Third quartile:  40.65900627\n",
      "Interquartile Range is 9.098536719999998\n",
      "Ramicane has 0 outlier(s) above the middle of the data\n",
      "Ramicane has 0 outlier(s) below the middle of the data\n",
      "--------------------\n",
      "Infubinol:\n",
      "First quartile:  54.04860769\n",
      "Second quartile:  60.16518046\n",
      "Third quartile:  65.52574285\n",
      "Interquartile Range is 11.477135160000003\n",
      "Infubinol has 0 outlier(s) above the middle of the data\n",
      "Infubinol has 1 outlier(s) below the middle of the data\n",
      "--------------------\n",
      "Ceftamin:\n",
      "First quartile:  48.72207785\n",
      "Second quartile:  59.85195552\n",
      "Third quartile:  64.29983003\n",
      "Interquartile Range is 15.577752179999997\n",
      "Ceftamin has 0 outlier(s) above the middle of the data\n",
      "Ceftamin has 0 outlier(s) below the middle of the data\n",
      "--------------------\n"
     ]
    },
    {
     "data": {
      "image/png": "[encoded data removed]",
      "text/plain": [
       "<Figure size 576x576 with 1 Axes>"
      ]
     },
     "metadata": {
      "needs_background": "light"
     },
     "output_type": "display_data"
    }
   ],
   "source": [
    "#make a dataframe of just Capomulin, Ramicane, Infubinol, and Ceftamin data\n",
    "top_four=cleaned_df.loc[((cleaned_df[\"Drug Regimen\"] == \"Capomulin\") | (cleaned_df[\"Drug Regimen\"] == \"Ramicane\") | (cleaned_df[\"Drug Regimen\"] == \"Infubinol\") | (cleaned_df[\"Drug Regimen\"] == \"Ceftamin\")),:]\n",
    "#drop all but the last timepoint for each mouse\n",
    "finals_top_four=top_four.drop_duplicates(\"Mouse ID\",keep=\"last\")\n",
    "#make a list to store lists of tumor volumes\n",
    "all_vols = []\n",
    "#loop over drugs specified\n",
    "for drug in [\"Capomulin\", \"Ramicane\", \"Infubinol\", \"Ceftamin\"]:\n",
    "    #print drug name\n",
    "    print(drug + \":\")\n",
    "    #pull out the final tumor volumes for each drug\n",
    "    vols=finals_top_four.loc[finals_top_four[\"Drug Regimen\"]==drug,\"Tumor Volume (mm3)\"]\n",
    "    #calculate quartiles\n",
    "    quart=vols.quantile([.25,.5,.75])\n",
    "    #print quartiles\n",
    "    print(f\"First quartile:  {quart[.25]}\")\n",
    "    print(f\"Second quartile:  {quart[.5]}\")\n",
    "    print(f\"Third quartile:  {quart[.75]}\")\n",
    "    iqr = quart[.75]-quart[.25]\n",
    "    print(f\"Interquartile Range is {iqr}\")\n",
    "    #find and count outliers\n",
    "    upper_outliers=vols.loc[vols>quart[.75]+1.5*iqr]\n",
    "    print(f\"{drug} has {len(upper_outliers)} outlier(s) above the middle of the data\")\n",
    "    lower_outliers=vols.loc[vols<quart[.25]-1.5*iqr]\n",
    "    print(f\"{drug} has {len(lower_outliers)} outlier(s) below the middle of the data\")\n",
    "    print(\"--------------------\")\n",
    "    #append the series of volumes to the list of all volumes to produce a list of series\n",
    "    all_vols.append(vols)\n",
    "\n",
    "#produce a box plot of final tumor size by drug using the list of series of volumes\n",
    "plt.figure(figsize=[8,8])\n",
    "plt.ylabel(\"Final Tumor Size (mm3)\")\n",
    "plt.title(\"Final Tumor Size Distributions for Four Most Successful Drugs\")\n",
    "plt.boxplot(all_vols,labels=[\"Capomulin\", \"Ramicane\", \"Infubinol\", \"Ceftamin\"],flierprops={\"markerfacecolor\":\"red\",\"marker\":\"s\"})\n",
    "plt.show()\n",
    "#This part may not have followed the substeps listed in the instructions, but I think my way was easier for me given that I found the .drop_duplicates method earlier in the challenge.\n",
    "#I believe it still produces all the requested output."
   ]
  },
  {
   "cell_type": "code",
   "execution_count": 12,
   "id": "fd6ea3ba",
   "metadata": {},
   "outputs": [
    {
     "data": {
      "image/png": "[encoded data removed]",
      "text/plain": [
       "<Figure size 576x360 with 1 Axes>"
      ]
     },
     "metadata": {
      "needs_background": "light"
     },
     "output_type": "display_data"
    }
   ],
   "source": [
    "#pull out the data for one particular mouse that took Capomulin\n",
    "s185_data = cleaned_df.loc[cleaned_df[\"Mouse ID\"]==\"s185\",[\"Timepoint\", \"Tumor Volume (mm3)\"]]\n",
    "#produce a plot of its tumor size over time\n",
    "plt.figure(figsize=[8,5])\n",
    "plt.ylim(0,50)\n",
    "plt.title(\"Tumor Size for Mouse s185 over Time\")\n",
    "plt.xlabel(\"Timepoint\")\n",
    "plt.ylabel(\"Tumor Volume (mm3)\")\n",
    "plt.plot(s185_data[\"Timepoint\"],s185_data[\"Tumor Volume (mm3)\"])\n",
    "plt.show()"
   ]
  },
  {
   "cell_type": "code",
   "execution_count": 13,
   "id": "f3835926",
   "metadata": {},
   "outputs": [
    {
     "data": {
      "image/png": "[encoded data removed]",
      "text/plain": [
       "<Figure size 720x360 with 1 Axes>"
      ]
     },
     "metadata": {
      "needs_background": "light"
     },
     "output_type": "display_data"
    }
   ],
   "source": [
    "#pull out data for just Capomulin\n",
    "cap = cleaned_df.loc[cleaned_df[\"Drug Regimen\"]==\"Capomulin\",:].groupby(\"Mouse ID\").mean()\n",
    "\n",
    "#produce a plot of average tumor size as a function of mouse mass\n",
    "plt.figure(figsize=[10,5])\n",
    "plt.title(\"Average Tumor Volume by Mouse Mass for Capomulin Treatment\")\n",
    "plt.xlabel(\"Mouse Mass (g)\")\n",
    "plt.ylabel(\"Average Tumor Volume (mm3)\")\n",
    "plt.scatter(cap[\"Weight (g)\"],cap[\"Tumor Volume (mm3)\"])\n",
    "plt.show()\n"
   ]
  },
  {
   "cell_type": "code",
   "execution_count": 14,
   "id": "74941d20",
   "metadata": {},
   "outputs": [
    {
     "name": "stdout",
     "output_type": "stream",
     "text": [
      "Average Tumor Volume = 0.9544396890241045 * Mass + 21.552160532685015\n",
      "Correlation Coefficient:  0.8419363424694718\n"
     ]
    },
    {
     "data": {
      "image/png": "[encoded data removed]",
      "text/plain": [
       "<Figure size 720x360 with 1 Axes>"
      ]
     },
     "metadata": {
      "needs_background": "light"
     },
     "output_type": "display_data"
    }
   ],
   "source": [
    "#perform a linear regression on the average tumor size vs mass data\n",
    "(slope, intercept, rvalue, pvalue, stderr) = st.linregress(cap[\"Weight (g)\"],cap[\"Tumor Volume (mm3)\"])\n",
    "#print the equation of the line\n",
    "print(f\"Average Tumor Volume = {slope} * Mass + {intercept}\")\n",
    "#print the correlation coefficient\n",
    "print(f\"Correlation Coefficient:  {rvalue}\")\n",
    "\n",
    "#produce a plot of average tumor size as a function of mouse mass with a linear regression plotted on top\n",
    "plt.figure(figsize=[10,5])\n",
    "plt.title(\"Average Tumor Volume by Mouse Mass for Capomulin Treatment\")\n",
    "plt.xlabel(\"Mouse Mass (g)\")\n",
    "plt.ylabel(\"Average Tumor Volume (mm3)\")\n",
    "plt.scatter(cap[\"Weight (g)\"],cap[\"Tumor Volume (mm3)\"])\n",
    "plt.plot(cap[\"Weight (g)\"],slope*cap[\"Weight (g)\"]+intercept)\n",
    "plt.show()\n"
   ]
  }
 ],
 "metadata": {
  "kernelspec": {
   "display_name": "PythonData",
   "language": "python",
   "name": "pythondata"
  },
  "language_info": {
   "codemirror_mode": {
    "name": "ipython",
    "version": 3
   },
   "file_extension": ".py",
   "mimetype": "text/x-python",
   "name": "python",
   "nbconvert_exporter": "python",
   "pygments_lexer": "ipython3",
   "version": "3.7.7"
  }
 },
 "nbformat": 4,
 "nbformat_minor": 5
}
